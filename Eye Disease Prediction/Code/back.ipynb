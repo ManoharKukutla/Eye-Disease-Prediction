{
 "cells": [
  {
   "cell_type": "code",
   "execution_count": 1,
   "id": "cd7fee86-6417-4dc6-9c60-c5ae1b27617c",
   "metadata": {},
   "outputs": [
    {
     "name": "stderr",
     "output_type": "stream",
     "text": [
      "WARNING:absl:Compiled the loaded model, but the compiled metrics have yet to be built. `model.compile_metrics` will be empty until you train or evaluate the model.\n"
     ]
    },
    {
     "name": "stdout",
     "output_type": "stream",
     "text": [
      " * Serving Flask app '__main__'\n",
      " * Debug mode: on\n"
     ]
    },
    {
     "name": "stderr",
     "output_type": "stream",
     "text": [
      "INFO:werkzeug:\u001b[31m\u001b[1mWARNING: This is a development server. Do not use it in a production deployment. Use a production WSGI server instead.\u001b[0m\n",
      " * Running on http://127.0.0.1:5000\n",
      "INFO:werkzeug:\u001b[33mPress CTRL+C to quit\u001b[0m\n",
      "INFO:werkzeug: * Restarting with watchdog (windowsapi)\n"
     ]
    },
    {
     "ename": "SystemExit",
     "evalue": "1",
     "output_type": "error",
     "traceback": [
      "An exception has occurred, use %tb to see the full traceback.\n",
      "\u001b[1;31mSystemExit\u001b[0m\u001b[1;31m:\u001b[0m 1\n"
     ]
    },
    {
     "name": "stderr",
     "output_type": "stream",
     "text": [
      "C:\\Users\\Manu\\anaconda3\\Lib\\site-packages\\IPython\\core\\interactiveshell.py:3585: UserWarning: To exit: use 'exit', 'quit', or Ctrl-D.\n",
      "  warn(\"To exit: use 'exit', 'quit', or Ctrl-D.\", stacklevel=1)\n"
     ]
    }
   ],
   "source": [
    "from flask import Flask, request, jsonify, render_template\n",
    "from tensorflow.keras.models import load_model\n",
    "import numpy as np\n",
    "from PIL import Image\n",
    "import sqlite3\n",
    "import os\n",
    "from datetime import datetime\n",
    "\n",
    "app = Flask(__name__)\n",
    "\n",
    "# Load Model\n",
    "model = load_model(\"eye_disease_model.h5\")\n",
    "\n",
    "# Database Setup\n",
    "def init_db():\n",
    "    conn = sqlite3.connect(\"patients.db\")\n",
    "    cursor = conn.cursor()\n",
    "    cursor.execute(\"\"\"\n",
    "        CREATE TABLE IF NOT EXISTS history (\n",
    "            id INTEGER PRIMARY KEY AUTOINCREMENT,\n",
    "            patient_id TEXT,\n",
    "            name TEXT,\n",
    "            uploaded_image TEXT,\n",
    "            disease TEXT,\n",
    "            percentage REAL,\n",
    "            date TIMESTAMP\n",
    "        )\n",
    "    \"\"\")\n",
    "    conn.commit()\n",
    "    conn.close()\n",
    "\n",
    "init_db()\n",
    "\n",
    "categories = [\"Glaucoma\", \"Cataract\", \"Diabetic Retinopathy\", \"Normal\"]\n",
    "\n",
    "@app.route('/')\n",
    "def index():\n",
    "    return render_template(\"index.html\")\n",
    "\n",
    "@app.route('/predict', methods=['POST'])\n",
    "def predict():\n",
    "    # Patient Details\n",
    "    patient_id = request.form['patient_id']\n",
    "    name = request.form['name']\n",
    "    file = request.files['image']\n",
    "\n",
    "    # Save Uploaded Image\n",
    "    upload_path = os.path.join(\"uploads\", file.filename)\n",
    "    file.save(upload_path)\n",
    "\n",
    "    # Process Image\n",
    "    img = Image.open(upload_path).resize((224, 224))\n",
    "    img_array = np.array(img) / 255.0\n",
    "    img_array = np.expand_dims(img_array, axis=0)\n",
    "\n",
    "    # Predict Disease\n",
    "    prediction = model.predict(img_array)[0]\n",
    "    max_idx = np.argmax(prediction)\n",
    "    disease = categories[max_idx]\n",
    "    percentage = round(prediction[max_idx] * 100, 2)\n",
    "\n",
    "    # Save to Database\n",
    "    conn = sqlite3.connect(\"patients.db\")\n",
    "    cursor = conn.cursor()\n",
    "    cursor.execute(\"\"\"\n",
    "        INSERT INTO history (patient_id, name, uploaded_image, disease, percentage, date)\n",
    "        VALUES (?, ?, ?, ?, ?, ?)\n",
    "    \"\"\", (patient_id, name, upload_path, disease, percentage, datetime.now()))\n",
    "    conn.commit()\n",
    "\n",
    "    # Fetch Previous Records\n",
    "    cursor.execute(\"SELECT * FROM history WHERE patient_id = ?\", (patient_id,))\n",
    "    history = cursor.fetchall()\n",
    "    conn.close()\n",
    "\n",
    "    # Suggestions\n",
    "    suggestions = \"Consult a doctor immediately.\" if percentage > 50 else \"Consider routine check-up.\"\n",
    "    if disease == \"Normal\":\n",
    "        suggestions = \"No disease detected.\"\n",
    "\n",
    "    return render_template(\"result.html\", patient_id=patient_id, name=name, disease=disease,\n",
    "                           percentage=percentage, suggestions=suggestions, history=history)\n",
    "\n",
    "if __name__ == '__main__':\n",
    "    app.run(debug=True)\n"
   ]
  }
 ],
 "metadata": {
  "kernelspec": {
   "display_name": "Python 3 (ipykernel)",
   "language": "python",
   "name": "python3"
  },
  "language_info": {
   "codemirror_mode": {
    "name": "ipython",
    "version": 3
   },
   "file_extension": ".py",
   "mimetype": "text/x-python",
   "name": "python",
   "nbconvert_exporter": "python",
   "pygments_lexer": "ipython3",
   "version": "3.12.7"
  }
 },
 "nbformat": 4,
 "nbformat_minor": 5
}
