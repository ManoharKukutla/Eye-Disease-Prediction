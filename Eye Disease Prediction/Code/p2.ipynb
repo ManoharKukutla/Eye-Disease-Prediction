{
 "cells": [
  {
   "cell_type": "code",
   "execution_count": 3,
   "id": "ee6475d7-e500-4157-9548-85c91a82dce2",
   "metadata": {},
   "outputs": [
    {
     "name": "stdout",
     "output_type": "stream",
     "text": [
      "Collecting opencv-python\n",
      "  Downloading opencv_python-4.10.0.84-cp37-abi3-win_amd64.whl.metadata (20 kB)\n",
      "Requirement already satisfied: numpy>=1.21.2 in c:\\users\\manu\\anaconda3\\lib\\site-packages (from opencv-python) (1.26.4)\n",
      "Downloading opencv_python-4.10.0.84-cp37-abi3-win_amd64.whl (38.8 MB)\n",
      "   ---------------------------------------- 0.0/38.8 MB ? eta -:--:--\n",
      "   ---------------------------------------- 0.3/38.8 MB ? eta -:--:--\n",
      "   - -------------------------------------- 1.0/38.8 MB 3.1 MB/s eta 0:00:13\n",
      "   - -------------------------------------- 1.8/38.8 MB 3.6 MB/s eta 0:00:11\n",
      "   -- ------------------------------------- 2.9/38.8 MB 3.8 MB/s eta 0:00:10\n",
      "   --- ------------------------------------ 3.4/38.8 MB 3.7 MB/s eta 0:00:10\n",
      "   ---- ----------------------------------- 4.5/38.8 MB 3.8 MB/s eta 0:00:10\n",
      "   ----- ---------------------------------- 5.5/38.8 MB 3.9 MB/s eta 0:00:09\n",
      "   ------ --------------------------------- 6.0/38.8 MB 3.9 MB/s eta 0:00:09\n",
      "   ------- -------------------------------- 6.8/38.8 MB 3.9 MB/s eta 0:00:09\n",
      "   ------- -------------------------------- 7.3/38.8 MB 3.7 MB/s eta 0:00:09\n",
      "   -------- ------------------------------- 8.7/38.8 MB 3.8 MB/s eta 0:00:08\n",
      "   --------- ------------------------------ 9.2/38.8 MB 3.7 MB/s eta 0:00:09\n",
      "   ---------- ----------------------------- 10.2/38.8 MB 3.8 MB/s eta 0:00:08\n",
      "   ----------- ---------------------------- 11.0/38.8 MB 3.8 MB/s eta 0:00:08\n",
      "   ------------ --------------------------- 11.8/38.8 MB 3.8 MB/s eta 0:00:08\n",
      "   ------------- -------------------------- 12.8/38.8 MB 3.9 MB/s eta 0:00:07\n",
      "   -------------- ------------------------- 13.6/38.8 MB 3.9 MB/s eta 0:00:07\n",
      "   -------------- ------------------------- 14.4/38.8 MB 3.9 MB/s eta 0:00:07\n",
      "   --------------- ------------------------ 15.2/38.8 MB 3.9 MB/s eta 0:00:07\n",
      "   ---------------- ----------------------- 16.3/38.8 MB 3.9 MB/s eta 0:00:06\n",
      "   ------------------ --------------------- 17.6/38.8 MB 4.0 MB/s eta 0:00:06\n",
      "   ------------------- -------------------- 18.9/38.8 MB 4.1 MB/s eta 0:00:05\n",
      "   -------------------- ------------------- 20.2/38.8 MB 4.2 MB/s eta 0:00:05\n",
      "   ---------------------- ----------------- 21.5/38.8 MB 4.3 MB/s eta 0:00:05\n",
      "   ----------------------- ---------------- 22.8/38.8 MB 4.4 MB/s eta 0:00:04\n",
      "   ------------------------ --------------- 24.1/38.8 MB 4.4 MB/s eta 0:00:04\n",
      "   ------------------------- -------------- 25.2/38.8 MB 4.5 MB/s eta 0:00:04\n",
      "   --------------------------- ------------ 26.7/38.8 MB 4.5 MB/s eta 0:00:03\n",
      "   ---------------------------- ----------- 28.0/38.8 MB 4.6 MB/s eta 0:00:03\n",
      "   ----------------------------- ---------- 29.1/38.8 MB 4.6 MB/s eta 0:00:03\n",
      "   ------------------------------- -------- 30.4/38.8 MB 4.7 MB/s eta 0:00:02\n",
      "   -------------------------------- ------- 31.7/38.8 MB 4.7 MB/s eta 0:00:02\n",
      "   --------------------------------- ------ 32.8/38.8 MB 4.7 MB/s eta 0:00:02\n",
      "   ----------------------------------- ---- 34.1/38.8 MB 4.7 MB/s eta 0:00:02\n",
      "   ------------------------------------ --- 35.7/38.8 MB 4.8 MB/s eta 0:00:01\n",
      "   -------------------------------------- - 37.0/38.8 MB 4.9 MB/s eta 0:00:01\n",
      "   ---------------------------------------  38.3/38.8 MB 4.9 MB/s eta 0:00:01\n",
      "   ---------------------------------------  38.8/38.8 MB 4.9 MB/s eta 0:00:01\n",
      "   ---------------------------------------- 38.8/38.8 MB 4.8 MB/s eta 0:00:00\n",
      "Installing collected packages: opencv-python\n",
      "Successfully installed opencv-python-4.10.0.84\n",
      "Note: you may need to restart the kernel to use updated packages.\n"
     ]
    }
   ],
   "source": [
    "pip install opencv-python\n"
   ]
  },
  {
   "cell_type": "code",
   "execution_count": 5,
   "id": "b15ad341-7cfc-42a2-9ff8-f0d37a70b038",
   "metadata": {},
   "outputs": [],
   "source": [
    "import tensorflow as tf\n",
    "from tensorflow.keras.models import Sequential\n",
    "from tensorflow.keras.layers import Conv2D, MaxPooling2D, Flatten, Dense, Dropout\n",
    "from tensorflow.keras.preprocessing.image import ImageDataGenerator\n",
    "from sklearn.model_selection import train_test_split\n",
    "import numpy as np\n",
    "import os\n",
    "from tensorflow.keras.utils import to_categorical\n",
    "import cv2"
   ]
  },
  {
   "cell_type": "code",
   "execution_count": 9,
   "id": "826be978-04fb-4762-b1e6-d297ba4511ab",
   "metadata": {},
   "outputs": [],
   "source": [
    "data_dir = \"C:/Users/Manu/OneDrive/Documents/DiseasePrediction/dataset\""
   ]
  },
  {
   "cell_type": "code",
   "execution_count": 14,
   "id": "7671d06e-4305-4c4d-ad83-2136568c4b5a",
   "metadata": {},
   "outputs": [],
   "source": [
    "# Data Preparation\n",
    "categories = [\"Glaucoma\", \"Cataract\", \"Diabetic_Retinopathy\", \"Normal\"]\n",
    "img_size = 224\n",
    "\n",
    "def load_data():\n",
    "    images = []\n",
    "    labels = []\n",
    "    for category in categories:\n",
    "        folder = os.path.join(data_dir, category)\n",
    "        label = categories.index(category)\n",
    "        for img in os.listdir(folder):\n",
    "            img_path = os.path.join(folder, img)\n",
    "            try:\n",
    "                img_array = cv2.imread(img_path)\n",
    "                img_array = cv2.resize(img_array, (img_size, img_size))\n",
    "                images.append(img_array)\n",
    "                labels.append(label)\n",
    "            except Exception as e:\n",
    "                print(e)\n",
    "    return np.array(images), np.array(labels)\n",
    "\n",
    "X, y = load_data()"
   ]
  },
  {
   "cell_type": "code",
   "execution_count": 16,
   "id": "45d19a5d-dd48-41d2-b0eb-ed9cbdbfc2b6",
   "metadata": {},
   "outputs": [],
   "source": [
    "# Normalize and one-hot encode labels\n",
    "X = X / 255.0\n",
    "y = to_categorical(y, num_classes=len(categories))\n",
    "\n",
    "# Split Data\n",
    "X_train, X_test, y_train, y_test = train_test_split(X, y, test_size=0.2, random_state=42)"
   ]
  },
  {
   "cell_type": "code",
   "execution_count": 18,
   "id": "002f51be-5eee-464a-990f-4641b59f130d",
   "metadata": {},
   "outputs": [
    {
     "name": "stderr",
     "output_type": "stream",
     "text": [
      "C:\\Users\\Manu\\anaconda3\\Lib\\site-packages\\keras\\src\\layers\\convolutional\\base_conv.py:107: UserWarning: Do not pass an `input_shape`/`input_dim` argument to a layer. When using Sequential models, prefer using an `Input(shape)` object as the first layer in the model instead.\n",
      "  super().__init__(activity_regularizer=activity_regularizer, **kwargs)\n"
     ]
    }
   ],
   "source": [
    "# Model Building\n",
    "model = Sequential([\n",
    "    Conv2D(32, (3, 3), activation='relu', input_shape=(img_size, img_size, 3)),\n",
    "    MaxPooling2D((2, 2)),\n",
    "    Conv2D(64, (3, 3), activation='relu'),\n",
    "    MaxPooling2D((2, 2)),\n",
    "    Conv2D(128, (3, 3), activation='relu'),\n",
    "    MaxPooling2D((2, 2)),\n",
    "    Flatten(),\n",
    "    Dense(256, activation='relu'),\n",
    "    Dropout(0.5),\n",
    "    Dense(len(categories), activation='softmax')\n",
    "])\n",
    "\n",
    "model.compile(optimizer='adam', loss='categorical_crossentropy', metrics=['accuracy'])\n"
   ]
  },
  {
   "cell_type": "code",
   "execution_count": 20,
   "id": "2e7d2f6d-5d04-4942-8afb-b779bc4c9874",
   "metadata": {},
   "outputs": [
    {
     "name": "stdout",
     "output_type": "stream",
     "text": [
      "\u001b[1m106/106\u001b[0m \u001b[32m━━━━━━━━━━━━━━━━━━━━\u001b[0m\u001b[37m\u001b[0m \u001b[1m235s\u001b[0m 2s/step - accuracy: 0.5084 - loss: 1.3669 - val_accuracy: 0.6588 - val_loss: 0.7874\n"
     ]
    }
   ],
   "source": [
    "# Train Model\n",
    "history = model.fit(X_train, y_train, epochs=1, validation_data=(X_test, y_test), batch_size=32)\n"
   ]
  },
  {
   "cell_type": "code",
   "execution_count": 22,
   "id": "ff07cc7f-0f12-4909-9f4c-ae6c32958fed",
   "metadata": {},
   "outputs": [
    {
     "name": "stderr",
     "output_type": "stream",
     "text": [
      "WARNING:absl:You are saving your model as an HDF5 file via `model.save()` or `keras.saving.save_model(model)`. This file format is considered legacy. We recommend using instead the native Keras format, e.g. `model.save('my_model.keras')` or `keras.saving.save_model(model, 'my_model.keras')`. \n"
     ]
    }
   ],
   "source": [
    "# Save Model\n",
    "model.save(\"eye_disease_model.h5\")"
   ]
  },
  {
   "cell_type": "code",
   "execution_count": null,
   "id": "47236ad6-b77a-45b3-8be9-a6efceed05a2",
   "metadata": {},
   "outputs": [],
   "source": []
  }
 ],
 "metadata": {
  "kernelspec": {
   "display_name": "Python 3 (ipykernel)",
   "language": "python",
   "name": "python3"
  },
  "language_info": {
   "codemirror_mode": {
    "name": "ipython",
    "version": 3
   },
   "file_extension": ".py",
   "mimetype": "text/x-python",
   "name": "python",
   "nbconvert_exporter": "python",
   "pygments_lexer": "ipython3",
   "version": "3.12.7"
  }
 },
 "nbformat": 4,
 "nbformat_minor": 5
}
